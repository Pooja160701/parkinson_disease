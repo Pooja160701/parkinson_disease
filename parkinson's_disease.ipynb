{
  "nbformat": 4,
  "nbformat_minor": 0,
  "metadata": {
    "colab": {
      "provenance": []
    },
    "kernelspec": {
      "name": "python3",
      "display_name": "Python 3"
    },
    "language_info": {
      "name": "python"
    }
  },
  "cells": [
    {
      "cell_type": "code",
      "execution_count": null,
      "metadata": {
        "id": "TNG3abF_ufaI"
      },
      "outputs": [],
      "source": [
        "%load_ext autoreload\n",
        "%autoreload 2\n",
        "%matplotlib inline\n",
        "import seaborn as sns\n",
        "import matplotlib.pyplot as plt\n",
        "plt.rcParams[\"figure.figsize\"] = (8, 8)\n",
        "plt.rcParams[\"figure.dpi\"] = 160\n",
        "plt.rcParams[\"font.size\"] = 14\n",
        "plt.rcParams['font.family'] = ['sans-serif']\n",
        "plt.rcParams['font.sans-serif'] = ['DejaVu Sans']\n",
        "plt.style.use('ggplot')\n",
        "sns.set_style(\"whitegrid\", {'axes.grid': False})"
      ]
    },
    {
      "cell_type": "code",
      "source": [
        "import numpy as np\n",
        "from skimage.io import imread\n",
        "from skimage.util import montage as montage2d\n",
        "import pandas as pd\n",
        "from pathlib import Path\n",
        "data_dir = Path('/content/drive/MyDrive/PARK')"
      ],
      "metadata": {
        "id": "L6OBOIfcuq-j"
      },
      "execution_count": null,
      "outputs": []
    },
    {
      "cell_type": "markdown",
      "source": [
        "**ORGANIZE THE DATASETS**"
      ],
      "metadata": {
        "id": "ZPxTxW2juxYq"
      }
    },
    {
      "cell_type": "code",
      "source": [
        "draw_df = pd.DataFrame({'path': list(data_dir.glob('*/*/*/*.png'))})\n",
        "draw_df['img_id'] = draw_df['path'].map(lambda x: x.stem)\n",
        "draw_df['disease'] = draw_df['path'].map(lambda x: x.parent.stem)\n",
        "draw_df['validation'] = draw_df['path'].map(lambda x: x.parent.parent.stem)\n",
        "draw_df['activity'] = draw_df['path'].map(lambda x: x.parent.parent.parent.stem)\n",
        "print(draw_df.shape, 'images loaded')\n",
        "draw_df.sample(3)"
      ],
      "metadata": {
        "id": "P8pPeyOausYh"
      },
      "execution_count": null,
      "outputs": []
    },
    {
      "cell_type": "code",
      "source": [
        "def fixed_imread(in_path, resize=True):\n",
        "    c_img = 1.0-imread(in_path, as_gray=True)\n",
        "    max_dim = np.max(c_img.shape)\n",
        "\n",
        "    if not resize:\n",
        "        return c_img\n",
        "    if c_img.shape==(256, 256):\n",
        "        return c_img\n",
        "    if max_dim>256:\n",
        "        big_dim = 512\n",
        "    else:\n",
        "        big_dim = 256\n",
        "\n",
        "    out_img = np.zeros((big_dim, big_dim), dtype='float32')\n",
        "    c_offset = (big_dim-c_img.shape[0])//2\n",
        "    d_offset = c_img.shape[0]+c_offset\n",
        "    e_offset = (big_dim-c_img.shape[1])//2\n",
        "    f_offset = c_img.shape[1]+e_offset\n",
        "    out_img[c_offset:d_offset, e_offset:f_offset] = c_img[:(d_offset-c_offset), :(f_offset-e_offset)]\n",
        "    return out_img"
      ],
      "metadata": {
        "id": "4UW1ap_du0az"
      },
      "execution_count": null,
      "outputs": []
    },
    {
      "cell_type": "code",
      "source": [
        "fig, m_axs = plt.subplots(2, 2, figsize=(20, 20))\n",
        "for c_ax, (c_lab, c_rows) in zip(m_axs.flatten(), draw_df.groupby(['activity', 'disease'])):\n",
        "    prev_img = montage2d(np.stack([fixed_imread(x) for x in c_rows['path'].iloc[0:9]], 0))\n",
        "    c_ax.imshow(prev_img, cmap='gray')\n",
        "    c_ax.set_title(' '.join(c_lab))\n",
        "    c_ax.axis('off')"
      ],
      "metadata": {
        "id": "MJF3yACwvAOK"
      },
      "execution_count": null,
      "outputs": []
    },
    {
      "cell_type": "markdown",
      "source": [
        "**FILTER AND SEGMENT**"
      ],
      "metadata": {
        "id": "dV5lMBX2vEWb"
      }
    },
    {
      "cell_type": "code",
      "source": [
        "from skimage.filters import threshold_yen as thresh_func\n",
        "from skimage.filters import median\n",
        "from skimage.morphology import disk, opening, diamond\n",
        "\n",
        "def read_and_thresh(in_path, resize=True):\n",
        "    c_img = fixed_imread(in_path, resize=resize)\n",
        "    c_img = (255*c_img).clip(0, 255).astype('uint8')\n",
        "    c_img = median(c_img, disk(2))\n",
        "    c_thresh = thresh_func(c_img)\n",
        "    return c_img>c_thresh\n",
        "fig, m_axs = plt.subplots(2, 2, figsize=(10, 10))\n",
        "for c_ax, (c_lab, c_rows) in zip(m_axs.flatten(), draw_df.groupby(['activity', 'disease'])):\n",
        "    prev_img = montage2d(np.stack([read_and_thresh(x) for x in c_rows['path'].iloc[0:9]], 0))\n",
        "    c_ax.imshow(prev_img, cmap='gray')\n",
        "    c_ax.set_title(' '.join(c_lab))\n",
        "    c_ax.axis('off')"
      ],
      "metadata": {
        "id": "TQszdSaXvFkc"
      },
      "execution_count": null,
      "outputs": []
    },
    {
      "cell_type": "code",
      "source": [
        "%%time\n",
        "draw_df['thresh_img'] = draw_df['path'].map(lambda x: read_and_thresh(x, resize=False))"
      ],
      "metadata": {
        "id": "aRDLU_zhvMhC"
      },
      "execution_count": null,
      "outputs": []
    },
    {
      "cell_type": "code",
      "source": [
        "fig, m_axs = plt.subplots(3, 3)\n",
        "for c_ax, (c_lab, c_row) in zip(m_axs.flatten(), draw_df.sample(9).iterrows()):\n",
        "    c_ax.imshow(c_row['thresh_img'], cmap='gray')\n",
        "    c_ax.set_title('{activity} {disease}'.format(**c_row))\n",
        "    c_ax.axis('off')"
      ],
      "metadata": {
        "id": "OYLL2zFkvPmT"
      },
      "execution_count": null,
      "outputs": []
    },
    {
      "cell_type": "code",
      "source": [
        "from skimage.morphology import label\n",
        "from skimage.morphology import closing\n",
        "def label_sort(in_img, cutoff=0.1):\n",
        "    total_cnt = np.sum(in_img>0)\n",
        "    lab_img = label(in_img)\n",
        "    new_image = np.zeros_like(lab_img)\n",
        "    remap_index = []\n",
        "    for k in np.unique(lab_img[lab_img>0]):\n",
        "        cnt = np.sum(lab_img==k)\n",
        "        if cnt>total_cnt*cutoff:\n",
        "            remap_index+=[(k, cnt)]\n",
        "    sorted_index = sorted(remap_index, key=lambda x: -x[1])\n",
        "    for new_idx, (old_idx, idx_count) in enumerate(sorted_index, 1):\n",
        "        new_image[lab_img==old_idx] = new_idx\n",
        "    return new_image"
      ],
      "metadata": {
        "id": "En1_9U4OvQsP"
      },
      "execution_count": null,
      "outputs": []
    },
    {
      "cell_type": "code",
      "source": [
        "fig, m_axs = plt.subplots(3, 3)\n",
        "for c_ax, (c_lab, c_row) in zip(m_axs.flatten(), draw_df.sample(9).iterrows()):\n",
        "    clean_img = closing(label_sort(c_row['thresh_img'])>0, disk(2))\n",
        "    c_ax.imshow(clean_img, cmap='gray')\n",
        "    c_ax.set_title('{activity} {disease}'.format(**c_row))\n",
        "    c_ax.axis('off')"
      ],
      "metadata": {
        "id": "BOCCbTTLvWda"
      },
      "execution_count": null,
      "outputs": []
    },
    {
      "cell_type": "code",
      "source": [
        "%%time\n",
        "draw_df['clean_img'] = draw_df['thresh_img'].map(lambda x: closing(label_sort(x)>0, disk(2))"
      ],
      "metadata": {
        "id": "G-MiZTmLvXiI"
      },
      "execution_count": null,
      "outputs": []
    },
    {
      "cell_type": "markdown",
      "source": [
        "**HIGHLIGHTING THE DRAWINGS**"
      ],
      "metadata": {
        "id": "2h6HR4k6vdae"
      }
    },
    {
      "cell_type": "code",
      "source": [
        "from skimage.morphology import skeletonize\n",
        "\n",
        "fig, m_axs = plt.subplots(3, 3)\n",
        "for c_ax, (c_lab, c_row) in zip(m_axs.flatten(), draw_df.sample(9).iterrows()):\n",
        "    skel_img = skeletonize(c_row['clean_img'])\n",
        "    skel_y, skel_x = np.where(skel_img)\n",
        "    skel_x = skel_x*1.0/skel_img.shape[1]\n",
        "    skel_y = skel_y*1.0/skel_img.shape[0]\n",
        "\n",
        "    c_ax.plot(skel_x, skel_y, 'b.')\n",
        "    c_ax.set_title('{activity} {disease}'.format(**c_row))\n",
        "    c_ax.axis('off')"
      ],
      "metadata": {
        "id": "7wamY102vbRO"
      },
      "execution_count": null,
      "outputs": []
    },
    {
      "cell_type": "markdown",
      "source": [
        "**CONVERT TO TABLE**"
      ],
      "metadata": {
        "id": "8iylHgcRvh4G"
      }
    },
    {
      "cell_type": "code",
      "source": [
        "all_row_list = []\n",
        "for _, c_row in draw_df.iterrows():\n",
        "    skel_img = skeletonize(c_row['clean_img'])\n",
        "    skel_y, skel_x = np.where(skel_img)\n",
        "    skel_x = skel_x*1.0/skel_img.shape[1]\n",
        "    skel_y = skel_y*1.0/skel_img.shape[0]\n",
        "    for x, y in zip(skel_x, skel_y):\n",
        "        d_row = dict(**{k: v for k,v in c_row.items() if len(np.shape(v))<1})\n",
        "        d_row['x'] = x\n",
        "        d_row['y'] = y\n",
        "        all_row_list += [d_row]"
      ],
      "metadata": {
        "id": "H86M9QNxvk61"
      },
      "execution_count": null,
      "outputs": []
    },
    {
      "cell_type": "code",
      "source": [
        "all_row_df = pd.DataFrame(all_row_list)\n",
        "all_row_df.sample(3)"
      ],
      "metadata": {
        "id": "-2QfPLOvvpl3"
      },
      "execution_count": null,
      "outputs": []
    },
    {
      "cell_type": "markdown",
      "source": [
        "**SHOWING ALL THE DRAWINGS ON THE SAME AXIS**"
      ],
      "metadata": {
        "id": "iPp7JfkWvsOW"
      }
    },
    {
      "cell_type": "code",
      "source": [
        "fig, m_axs = plt.subplots(2, 2, figsize=(30, 30), dpi=72)\n",
        "for c_ax, (c_lab, c_rows) in zip(m_axs.flatten(), all_row_df.groupby(['activity', 'disease'])):\n",
        "    for c_id, d_rows in c_rows.groupby('img_id'):\n",
        "        mean_std = np.mean([d_rows['x'].std(), d_rows['y'].std()])\n",
        "        c_ax.plot((d_rows['x']-d_rows['x'].mean())/mean_std,\n",
        "                  (d_rows['y']-d_rows['y'].mean())/mean_std, '.', label=c_id, ms=0.75)\n",
        "    c_ax.legend()\n",
        "    c_ax.set_title(' '.join(c_lab))\n",
        "    c_ax.axis('off')"
      ],
      "metadata": {
        "id": "0Ht8wTc8vtyR"
      },
      "execution_count": null,
      "outputs": []
    }
  ]
}